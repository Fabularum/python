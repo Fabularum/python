{
  "cells": [
    {
      "cell_type": "markdown",
      "id": "1b14d01d",
      "metadata": {
        "id": "1b14d01d"
      },
      "source": [
        "# 1.2 Пример"
      ]
    },
    {
      "cell_type": "code",
      "execution_count": null,
      "id": "fc924312",
      "metadata": {
        "id": "fc924312"
      },
      "outputs": [],
      "source": [
        "x = 3 + 5.2 * 7\n",
        "y = None\n",
        "z = 'a', 5, 12.345, (2, 'b')\n",
        "df = [['Антонова Антонина', 34, 'ж'], [\"Борисов Борис\", 26, 'м']]\n",
        "A = {1, 'title', 2, 'content'}\n"
      ]
    },
    {
      "cell_type": "code",
      "execution_count": null,
      "id": "XGXYTyPbD7Sj",
      "metadata": {
        "colab": {
          "base_uri": "https://localhost:8080/"
        },
        "id": "XGXYTyPbD7Sj",
        "outputId": "99a70abf-92fa-4ba3-852a-ce2db467238f"
      },
      "outputs": [
        {
          "name": "stdout",
          "output_type": "stream",
          "text": [
            "39.4 | <class 'float'> \n",
            " None | <class 'NoneType'> \n",
            " ('a', 5, 12.345, (2, 'b')) | <class 'tuple'> \n",
            " [['Антонова Антонина', 34, 'ж'], ['Борисов Борис', 26, 'м']] | <class 'list'> \n",
            " {'title', 1, 2, 'content'} | <class 'set'> \n",
            "\n"
          ]
        }
      ],
      "source": [
        "print(x, '|', type(x), '\\n', y, '|', type(y), '\\n',\n",
        "     z, '|', type(z), '\\n', df, '|', type(df), '\\n', A, '|', type(A), '\\n')"
      ]
    },
    {
      "cell_type": "markdown",
      "id": "9f64b2e5",
      "metadata": {
        "id": "9f64b2e5"
      },
      "source": [
        "# 1.3 Задание"
      ]
    },
    {
      "cell_type": "code",
      "execution_count": null,
      "id": "e6c0e626",
      "metadata": {
        "id": "e6c0e626"
      },
      "outputs": [],
      "source": [
        "x = 5 >= 2\n",
        "A = {1, 3, 7, 8}\n",
        "B = {2, 4, 5, 10, 'apple'}\n",
        "C = A & B\n",
        "df = 'Антонова Антонинеа', 34, 'ж'\n",
        "z = 'type'\n",
        "D = [1, 'title', 2, 'content']"
      ]
    },
    {
      "cell_type": "code",
      "execution_count": null,
      "id": "Vabk8kZPD-rz",
      "metadata": {
        "id": "Vabk8kZPD-rz"
      },
      "outputs": [],
      "source": [
        "print(x, '|', type(x), '\\n', \n",
        "      A, '|', type(A), '\\n', \n",
        "      B, '|', type(B), '\\n', \n",
        "      C, '|', type(C), '\\n', \n",
        "      df, '|', type(df), '\\n',\n",
        "      z, '|', type(z), '\\n', \n",
        "      D, '|', type(D), '\\n')"
      ]
    },
    {
      "cell_type": "markdown",
      "id": "c3pEu0cOFXMv",
      "metadata": {
        "id": "c3pEu0cOFXMv"
      },
      "source": [
        "# 2.2 Задание"
      ]
    },
    {
      "cell_type": "code",
      "execution_count": null,
      "id": "Tus5Nt8UFtqO",
      "metadata": {
        "id": "Tus5Nt8UFtqO"
      },
      "outputs": [],
      "source": [
        "x = 10\n",
        "if x < -5:\n",
        "  print('-infinity, ', -5)\n",
        "if x >= -5 and x <= 5:\n",
        "  print(-5, 5)\n",
        "if x > 5:\n",
        "  print(5, ', +infinity')\n",
        "  \n",
        "  "
      ]
    },
    {
      "cell_type": "markdown",
      "id": "jx5QJe2aJE0q",
      "metadata": {
        "id": "jx5QJe2aJE0q"
      },
      "source": [
        "# 3.3 Задания"
      ]
    },
    {
      "cell_type": "code",
      "execution_count": null,
      "id": "UXOd0hilJKzM",
      "metadata": {
        "colab": {
          "base_uri": "https://localhost:8080/"
        },
        "id": "UXOd0hilJKzM",
        "outputId": "8c5e7a82-d9c6-4f2d-8d25-cc89958f2c0d"
      },
      "outputs": [
        {
          "name": "stdout",
          "output_type": "stream",
          "text": [
            "10\n",
            "7\n",
            "4\n",
            "1\n"
          ]
        }
      ],
      "source": [
        "x = 10  #3.3.1\n",
        "while(x >= 1):\n",
        "  print (x)\n",
        "  x -= 3"
      ]
    },
    {
      "cell_type": "code",
      "execution_count": 2,
      "id": "LWye63B0J9yG",
      "metadata": {
        "id": "LWye63B0J9yG"
      },
      "outputs": [
        {
          "name": "stdout",
          "output_type": "stream",
          "text": [
            "['eyes', 'hands', 'legs']\n"
          ]
        }
      ],
      "source": [
        "human = ['eyes', 'hands', 'legs']   #3.3.2\n",
        "print(human)"
      ]
    },
    {
      "cell_type": "code",
      "execution_count": 6,
      "id": "86b130f3",
      "metadata": {},
      "outputs": [
        {
          "name": "stdout",
          "output_type": "stream",
          "text": [
            "[2, 3, 4, 5, 6, 7, 8, 9, 10, 11, 12, 13, 14, 15]\n"
          ]
        }
      ],
      "source": [
        "list_x = range(2, 15+1, 1)  #3.3.3\n",
        "print(list(list_x))"
      ]
    },
    {
      "cell_type": "code",
      "execution_count": 9,
      "id": "c088cb70",
      "metadata": {},
      "outputs": [
        {
          "name": "stdout",
          "output_type": "stream",
          "text": [
            "105\n",
            "80\n",
            "55\n",
            "30\n",
            "5\n"
          ]
        }
      ],
      "source": [
        "for i in range(105, 5-1, -25): #3.3.4\n",
        "    print(i)"
      ]
    },
    {
      "cell_type": "code",
      "execution_count": 54,
      "metadata": {},
      "outputs": [
        {
          "name": "stdout",
          "output_type": "stream",
          "text": [
            "4\n",
            "[]\n"
          ]
        }
      ],
      "source": [
        "x = [1, 2, 3, 4, 5, 6, 7, 8, 9] #3.3.5\n",
        "\n",
        "a = x[1:9:2]\n",
        "a = a[::-1]\n",
        "\n",
        "b = x[0:9:2]\n",
        "\n",
        "c = []\n",
        "\n",
        "\n",
        "print(c)\n"
      ]
    },
    {
      "attachments": {},
      "cell_type": "markdown",
      "id": "5e90fe28",
      "metadata": {},
      "source": [
        "# 4.3 Задачи"
      ]
    },
    {
      "cell_type": "code",
      "execution_count": 66,
      "id": "1c87f9a4",
      "metadata": {},
      "outputs": [
        {
          "name": "stdout",
          "output_type": "stream",
          "text": [
            "[0.7694424455732803, 0.5930503153521661, 0.4357611215102518]\n",
            "0.5994179608118994\n",
            "0.5930503153521661\n"
          ]
        }
      ],
      "source": [
        "import random   #4.3.1\n",
        "import statistics\n",
        "\n",
        "x = [0] * 3\n",
        "for i in range(0, len(x), 1):\n",
        "    x[i] = random.uniform(0,1)\n",
        "avarage = sum(x)/len(x)\n",
        "\n",
        "print(x)\n",
        "print(avarage)\n",
        "print(statistics.median(x))"
      ]
    },
    {
      "cell_type": "code",
      "execution_count": 86,
      "id": "6deab5bd",
      "metadata": {},
      "outputs": [
        {
          "name": "stdout",
          "output_type": "stream",
          "text": [
            "[1, 2, 3, 4, 5]\n",
            "[6, 7, 8, 9, 10]\n",
            "[5.798917496411, 9.89559082992602, 4.194572274398421, 3.9811767763428825, 4.092729058690511]\n",
            "----------------------------------------------------------------------\n",
            "[5.798917496411, 9.89559082992602, 4.194572274398421, 3.9811767763428825, 4.092729058690511, 5.938653149530014, 8.115700200778333, 138.24401824876855, 7.917984524440516, 7.3440502300859265]\n"
          ]
        }
      ],
      "source": [
        "import math as m\n",
        "import matplotlib.pyplot as plt\n",
        "\n",
        "\n",
        "x = [1, 2, 3, 4, 5, 6, 7, 8, 9, 10]\n",
        "x1 = x[:5:1]\n",
        "x2 = x[5:10:1]\n",
        "print (x1)\n",
        "print(x2)\n",
        "y1 = [0] * 5\n",
        "y2 = [0] * 10\n",
        "for i in range(0, len(x1), 1):\n",
        "    y1[i] = ((m.sqrt(1 + m.pow(m.e, m.sqrt(x1[i])) + m.cos(x1[i]**2)))/abs(1 - pow(m.sin(x1[i]), 3))) + m.log(2*x1[i])\n",
        "print(y1)\n",
        "print('----------------------------------------------------------------------')\n",
        "k = 0\n",
        "for j in range(0, len(x), 1):\n",
        "    y2[k] = ((m.sqrt(1 + m.pow(m.e, m.sqrt(x[j])) + m.cos(x[j]**2)))/abs(1 - pow(m.sin(x[j]), 3))) + m.log(2*x[j])\n",
        "    k += 1\n",
        "print (y2)\n",
        "\n"
      ]
    }
  ],
  "metadata": {
    "colab": {
      "provenance": []
    },
    "kernelspec": {
      "display_name": "Python 3",
      "language": "python",
      "name": "python3"
    },
    "language_info": {
      "codemirror_mode": {
        "name": "ipython",
        "version": 3
      },
      "file_extension": ".py",
      "mimetype": "text/x-python",
      "name": "python",
      "nbconvert_exporter": "python",
      "pygments_lexer": "ipython3",
      "version": "3.11.1"
    },
    "vscode": {
      "interpreter": {
        "hash": "539f65a5145185563a1c4db7fde4c9e8585c07b6a352287eb64a2a2d189d7b84"
      }
    }
  },
  "nbformat": 4,
  "nbformat_minor": 5
}
